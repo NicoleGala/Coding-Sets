{
 "cells": [
  {
   "cell_type": "markdown",
   "metadata": {},
   "source": [
    "# CODING ACTIVITY:Set Theory \n",
    "---"
   ]
  },
  {
   "cell_type": "code",
   "execution_count": 112,
   "metadata": {},
   "outputs": [],
   "source": [
    "#Some artists liked by those students who like to listen to music\n",
    "pop_artists = [\"Maroon 5\", \"One Direction\", \"Bruno Mars\", \"Paramore\", \"Coldplay\", \"Beatles\"]\n",
    "rock_artists = [\"The Script\", \"Coldplay\", \"Beatles\", \"Paramore\"]\n",
    "\n",
    "#Games liked by those students who like to play games\n",
    "online_games = [\"DOTA\", \"League of Legends\", \"Valorant\", \"Doom Eternal\", \"Red Alert 2\", \"Need for Speed\", \"CSGO\", \"GTA 5\", \"Mobile Legends\"]\n",
    "offline_games = [\"Retro games\", \"DOTA\",\"Red Alert 2\", \"Need for Speed\",\"CSGO\", \"Sekiro\", \"Doom Eternal\"]"
   ]
  },
  {
   "cell_type": "code",
   "execution_count": 113,
   "metadata": {},
   "outputs": [],
   "source": [
    "pop = set(pop_artists)\n",
    "rock = set(rock_artists)\n",
    "\n",
    "online = set(online_games)\n",
    "offline = set(offline_games)"
   ]
  },
  {
   "cell_type": "markdown",
   "metadata": {},
   "source": [
    "## INNER JOIN\n"
   ]
  },
  {
   "cell_type": "code",
   "execution_count": 114,
   "metadata": {},
   "outputs": [
    {
     "data": {
      "text/plain": [
       "{'Beatles', 'Coldplay', 'Paramore'}"
      ]
     },
     "execution_count": 114,
     "metadata": {},
     "output_type": "execute_result"
    }
   ],
   "source": [
    "# Artists that are categorized as both pop and rock genre\n",
    "common = pop.intersection(rock)\n",
    "common"
   ]
  },
  {
   "cell_type": "code",
   "execution_count": 115,
   "metadata": {},
   "outputs": [
    {
     "data": {
      "text/plain": [
       "{'CSGO', 'DOTA', 'Doom Eternal', 'Need for Speed', 'Red Alert 2'}"
      ]
     },
     "execution_count": 115,
     "metadata": {},
     "output_type": "execute_result"
    }
   ],
   "source": [
    "# Games that can be played both online or offline \n",
    "common_el = online.intersection(offline)\n",
    "common_el"
   ]
  },
  {
   "cell_type": "markdown",
   "metadata": {},
   "source": [
    "## LEFT JOIN \n"
   ]
  },
  {
   "cell_type": "code",
   "execution_count": 116,
   "metadata": {},
   "outputs": [
    {
     "data": {
      "text/plain": [
       "{'Beatles', 'Bruno Mars', 'Coldplay', 'Maroon 5', 'One Direction', 'Paramore'}"
      ]
     },
     "execution_count": 116,
     "metadata": {},
     "output_type": "execute_result"
    }
   ],
   "source": [
    "# Artists under pop genre \n",
    "pop_ljoin = common.union(pop)\n",
    "pop_ljoin"
   ]
  },
  {
   "cell_type": "code",
   "execution_count": 117,
   "metadata": {},
   "outputs": [
    {
     "data": {
      "text/plain": [
       "{'CSGO',\n",
       " 'DOTA',\n",
       " 'Doom Eternal',\n",
       " 'GTA 5',\n",
       " 'League of Legends',\n",
       " 'Mobile Legends',\n",
       " 'Need for Speed',\n",
       " 'Red Alert 2',\n",
       " 'Valorant'}"
      ]
     },
     "execution_count": 117,
     "metadata": {},
     "output_type": "execute_result"
    }
   ],
   "source": [
    "# Games that can be played online\n",
    "online_ljoin = common_el.union(online)\n",
    "online_ljoin"
   ]
  },
  {
   "cell_type": "markdown",
   "metadata": {},
   "source": [
    "## RIGHT JOIN"
   ]
  },
  {
   "cell_type": "code",
   "execution_count": 128,
   "metadata": {},
   "outputs": [
    {
     "data": {
      "text/plain": [
       "{'Beatles', 'Coldplay', 'Paramore', 'The Script'}"
      ]
     },
     "execution_count": 128,
     "metadata": {},
     "output_type": "execute_result"
    }
   ],
   "source": [
    "# Artists under rock genre \n",
    "rock_RightJoin = common.union(rock)\n",
    "rock_RightJoin"
   ]
  },
  {
   "cell_type": "code",
   "execution_count": 119,
   "metadata": {},
   "outputs": [
    {
     "data": {
      "text/plain": [
       "{'CSGO',\n",
       " 'DOTA',\n",
       " 'Doom Eternal',\n",
       " 'Need for Speed',\n",
       " 'Red Alert 2',\n",
       " 'Retro games',\n",
       " 'Sekiro'}"
      ]
     },
     "execution_count": 119,
     "metadata": {},
     "output_type": "execute_result"
    }
   ],
   "source": [
    "# Games that can be played offline\n",
    "offline_LeftJoin = common_el.union(offline)\n",
    "offline_Leftjoin"
   ]
  },
  {
   "cell_type": "markdown",
   "metadata": {},
   "source": [
    "## LEFT EXCLUSIVE JOIN "
   ]
  },
  {
   "cell_type": "code",
   "execution_count": 120,
   "metadata": {},
   "outputs": [
    {
     "data": {
      "text/plain": [
       "{'Bruno Mars', 'Maroon 5', 'One Direction'}"
      ]
     },
     "execution_count": 120,
     "metadata": {},
     "output_type": "execute_result"
    }
   ],
   "source": [
    "# Artists that are categorized as pop genre but not rock genre\n",
    "pop_exLjoin = pop.difference(rock)\n",
    "pop_exLjoin"
   ]
  },
  {
   "cell_type": "code",
   "execution_count": 129,
   "metadata": {},
   "outputs": [
    {
     "data": {
      "text/plain": [
       "{'GTA 5', 'League of Legends', 'Mobile Legends', 'Valorant'}"
      ]
     },
     "execution_count": 129,
     "metadata": {},
     "output_type": "execute_result"
    }
   ],
   "source": [
    "# Games that can be played only with internet connection\n",
    "online_exLjoin = online.difference(offline)\n",
    "online_exLjoin"
   ]
  },
  {
   "cell_type": "markdown",
   "metadata": {},
   "source": [
    "## RIGHT EXCLUSIVE JOIN "
   ]
  },
  {
   "cell_type": "code",
   "execution_count": 122,
   "metadata": {},
   "outputs": [
    {
     "data": {
      "text/plain": [
       "{'The Script'}"
      ]
     },
     "execution_count": 122,
     "metadata": {},
     "output_type": "execute_result"
    }
   ],
   "source": [
    "# Artists that are categorized as rock genre but not pop genre\n",
    "rock_exRjoin = rock.difference(pop)\n",
    "rock_exRjoin"
   ]
  },
  {
   "cell_type": "code",
   "execution_count": 130,
   "metadata": {},
   "outputs": [
    {
     "data": {
      "text/plain": [
       "{'Retro games', 'Sekiro'}"
      ]
     },
     "execution_count": 130,
     "metadata": {},
     "output_type": "execute_result"
    }
   ],
   "source": [
    "#Games that can be played only offline\n",
    "offline_exRjoin = offline.difference(online)\n",
    "offline_exRjoin"
   ]
  },
  {
   "cell_type": "markdown",
   "metadata": {},
   "source": [
    "## FULL OUTER JOIN"
   ]
  },
  {
   "cell_type": "code",
   "execution_count": 106,
   "metadata": {},
   "outputs": [
    {
     "data": {
      "text/plain": [
       "{'Beatles',\n",
       " 'Bruno Mars',\n",
       " 'Coldplay',\n",
       " 'Maroon 5',\n",
       " 'One Direction',\n",
       " 'Paramore',\n",
       " 'The Script'}"
      ]
     },
     "execution_count": 106,
     "metadata": {},
     "output_type": "execute_result"
    }
   ],
   "source": [
    "# List of favorite Pop and Rock Artists of the students\n",
    "PR_FoutJoin = pop.union(rock)\n",
    "PR_FoutJoin"
   ]
  },
  {
   "cell_type": "code",
   "execution_count": 124,
   "metadata": {},
   "outputs": [
    {
     "data": {
      "text/plain": [
       "{'CSGO',\n",
       " 'DOTA',\n",
       " 'Doom Eternal',\n",
       " 'GTA 5',\n",
       " 'League of Legends',\n",
       " 'Mobile Legends',\n",
       " 'Need for Speed',\n",
       " 'Red Alert 2',\n",
       " 'Retro games',\n",
       " 'Sekiro',\n",
       " 'Valorant'}"
      ]
     },
     "execution_count": 124,
     "metadata": {},
     "output_type": "execute_result"
    }
   ],
   "source": [
    "# List of Online and Offline games played by the students\n",
    "OFON_FoutJoin = online.union(offline)\n",
    "OFON_FoutJoin"
   ]
  },
  {
   "cell_type": "markdown",
   "metadata": {},
   "source": [
    "## FULL OUTER EXCLUSIVE JOIN"
   ]
  },
  {
   "cell_type": "code",
   "execution_count": 125,
   "metadata": {},
   "outputs": [
    {
     "data": {
      "text/plain": [
       "{'Bruno Mars', 'Maroon 5', 'One Direction', 'The Script'}"
      ]
     },
     "execution_count": 125,
     "metadata": {},
     "output_type": "execute_result"
    }
   ],
   "source": [
    "# Union of Pop and Rock artists exluding the intersection between them.\n",
    "PR_Fxouter = (pop.difference(rock)).union(rock.difference(pop))\n",
    "PR_Fxouter"
   ]
  },
  {
   "cell_type": "code",
   "execution_count": 133,
   "metadata": {},
   "outputs": [
    {
     "data": {
      "text/plain": [
       "{'GTA 5',\n",
       " 'League of Legends',\n",
       " 'Mobile Legends',\n",
       " 'Retro games',\n",
       " 'Sekiro',\n",
       " 'Valorant'}"
      ]
     },
     "execution_count": 133,
     "metadata": {},
     "output_type": "execute_result"
    }
   ],
   "source": [
    "# Union of Online and Offline games exluding the intersection between them.\n",
    "OFON_Fxouter = (online.difference(offline)).union(offline.difference(online))\n",
    "OFON_Fxouter"
   ]
  }
 ],
 "metadata": {
  "kernelspec": {
   "display_name": "Python 3",
   "language": "python",
   "name": "python3"
  },
  "language_info": {
   "codemirror_mode": {
    "name": "ipython",
    "version": 3
   },
   "file_extension": ".py",
   "mimetype": "text/x-python",
   "name": "python",
   "nbconvert_exporter": "python",
   "pygments_lexer": "ipython3",
   "version": "3.8.3"
  }
 },
 "nbformat": 4,
 "nbformat_minor": 4
}
